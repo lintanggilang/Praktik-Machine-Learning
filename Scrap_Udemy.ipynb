{
  "nbformat": 4,
  "nbformat_minor": 0,
  "metadata": {
    "kernelspec": {
      "display_name": "Python 3",
      "language": "python",
      "name": "python3"
    },
    "language_info": {
      "codemirror_mode": {
        "name": "ipython",
        "version": 3
      },
      "file_extension": ".py",
      "mimetype": "text/x-python",
      "name": "python",
      "nbconvert_exporter": "python",
      "pygments_lexer": "ipython3",
      "version": "3.8.5"
    },
    "colab": {
      "name": "Scrap_Udemy.ipynb",
      "provenance": [],
      "include_colab_link": true
    }
  },
  "cells": [
    {
      "cell_type": "markdown",
      "metadata": {
        "id": "view-in-github",
        "colab_type": "text"
      },
      "source": [
        "<a href=\"https://colab.research.google.com/github/lintanggilang/Praktik-Machine-Learning/blob/master/Scrap_Udemy.ipynb\" target=\"_parent\"><img src=\"https://colab.research.google.com/assets/colab-badge.svg\" alt=\"Open In Colab\"/></a>"
      ]
    },
    {
      "cell_type": "code",
      "metadata": {
        "id": "8Ybc0XXXAWs-",
        "outputId": "4bb339b2-79d0-41e7-9925-ecba71f5e723"
      },
      "source": [
        "print(\"lintang\")"
      ],
      "execution_count": null,
      "outputs": [
        {
          "output_type": "stream",
          "text": [
            "lintang\n"
          ],
          "name": "stdout"
        }
      ]
    },
    {
      "cell_type": "code",
      "metadata": {
        "id": "16uU0SCAAWtD"
      },
      "source": [
        "from selenium import webdriver\n",
        "from webdriver_manager.chrome import ChromeDriverManager\n",
        "import time"
      ],
      "execution_count": null,
      "outputs": []
    },
    {
      "cell_type": "code",
      "metadata": {
        "id": "i_ONOPZWAWtG"
      },
      "source": [
        "#Selenium\n",
        "driver = webdriver.Chrome()\n",
        "\n",
        "driver.get(\"https://www.udemy.com/topic/python\")\n",
        "\n",
        "time.sleep(30)"
      ],
      "execution_count": null,
      "outputs": []
    },
    {
      "cell_type": "code",
      "metadata": {
        "id": "dMMCfo54AWtJ"
      },
      "source": [
        "from bs4 import BeautifulSoup as soup\n",
        "import pandas as pd"
      ],
      "execution_count": null,
      "outputs": []
    },
    {
      "cell_type": "code",
      "metadata": {
        "id": "bXWLJAGLAWtL"
      },
      "source": [
        "page_source = driver.page_source\n",
        "\n",
        "html = soup(page_source, 'lxml')"
      ],
      "execution_count": null,
      "outputs": []
    },
    {
      "cell_type": "code",
      "metadata": {
        "id": "ATO2IjpWAWtO"
      },
      "source": [
        "table = html.find_all('div', class_='panel--panel--3NYBX')[2]\n",
        "\n",
        "data = []\n",
        "for tag in table.find_all('label', class_='udlite-toggle-input-container udlite-text-sm'):\n",
        "    data.append(tag.text)\n",
        "    \n",
        "df_topik = pd.DataFrame(data, columns = ['data'])\n",
        "\n",
        "new = df_topik[\"data\"].str.split(\"(\", n = 1, expand = True) \n",
        "\n",
        "df_topik[\"Topik\"]= new[0] \n",
        "df_topik[\"Total\"]= new[1] \n",
        "\n",
        "df_topik.drop(columns =[\"data\"], inplace = True)\n",
        "df_topik['Total'] = df_topik['Total'].str.replace(\")\",\"\")"
      ],
      "execution_count": null,
      "outputs": []
    },
    {
      "cell_type": "code",
      "metadata": {
        "id": "p4tExUgVAWtQ",
        "outputId": "16a3f7a2-6891-4768-8cdd-c89a7cfa56a0"
      },
      "source": [
        "df_topik"
      ],
      "execution_count": null,
      "outputs": [
        {
          "output_type": "execute_result",
          "data": {
            "text/html": [
              "<div>\n",
              "<style scoped>\n",
              "    .dataframe tbody tr th:only-of-type {\n",
              "        vertical-align: middle;\n",
              "    }\n",
              "\n",
              "    .dataframe tbody tr th {\n",
              "        vertical-align: top;\n",
              "    }\n",
              "\n",
              "    .dataframe thead th {\n",
              "        text-align: right;\n",
              "    }\n",
              "</style>\n",
              "<table border=\"1\" class=\"dataframe\">\n",
              "  <thead>\n",
              "    <tr style=\"text-align: right;\">\n",
              "      <th></th>\n",
              "      <th>Topik</th>\n",
              "      <th>Total</th>\n",
              "    </tr>\n",
              "  </thead>\n",
              "  <tbody>\n",
              "    <tr>\n",
              "      <th>0</th>\n",
              "      <td>Machine learning</td>\n",
              "      <td>52</td>\n",
              "    </tr>\n",
              "    <tr>\n",
              "      <th>1</th>\n",
              "      <td>Ilmu Data</td>\n",
              "      <td>48</td>\n",
              "    </tr>\n",
              "    <tr>\n",
              "      <th>2</th>\n",
              "      <td>Django</td>\n",
              "      <td>40</td>\n",
              "    </tr>\n",
              "    <tr>\n",
              "      <th>3</th>\n",
              "      <td>Pembelajaran Mendalam</td>\n",
              "      <td>22</td>\n",
              "    </tr>\n",
              "    <tr>\n",
              "      <th>4</th>\n",
              "      <td>Dasar-Dasar Pemrograman</td>\n",
              "      <td>21</td>\n",
              "    </tr>\n",
              "    <tr>\n",
              "      <th>5</th>\n",
              "      <td>Kecerdasan Buatan</td>\n",
              "      <td>19</td>\n",
              "    </tr>\n",
              "    <tr>\n",
              "      <th>6</th>\n",
              "      <td>Analis Data</td>\n",
              "      <td>18</td>\n",
              "    </tr>\n",
              "    <tr>\n",
              "      <th>7</th>\n",
              "      <td>Pandas</td>\n",
              "      <td>16</td>\n",
              "    </tr>\n",
              "    <tr>\n",
              "      <th>8</th>\n",
              "      <td>Python Scripting</td>\n",
              "      <td>16</td>\n",
              "    </tr>\n",
              "    <tr>\n",
              "      <th>9</th>\n",
              "      <td>Python GUI</td>\n",
              "      <td>13</td>\n",
              "    </tr>\n",
              "    <tr>\n",
              "      <th>10</th>\n",
              "      <td>Flask</td>\n",
              "      <td>11</td>\n",
              "    </tr>\n",
              "    <tr>\n",
              "      <th>11</th>\n",
              "      <td>TkInter</td>\n",
              "      <td>10</td>\n",
              "    </tr>\n",
              "    <tr>\n",
              "      <th>12</th>\n",
              "      <td>Visualisasi Data</td>\n",
              "      <td>9</td>\n",
              "    </tr>\n",
              "    <tr>\n",
              "      <th>13</th>\n",
              "      <td>Pemrograman Berorientasi Objek</td>\n",
              "      <td>9</td>\n",
              "    </tr>\n",
              "    <tr>\n",
              "      <th>14</th>\n",
              "      <td>TensorFlow</td>\n",
              "      <td>9</td>\n",
              "    </tr>\n",
              "    <tr>\n",
              "      <th>15</th>\n",
              "      <td>Pengembangan Web</td>\n",
              "      <td>9</td>\n",
              "    </tr>\n",
              "    <tr>\n",
              "      <th>16</th>\n",
              "      <td>Algoritme</td>\n",
              "      <td>8</td>\n",
              "    </tr>\n",
              "    <tr>\n",
              "      <th>17</th>\n",
              "      <td>Raspberry Pi</td>\n",
              "      <td>7</td>\n",
              "    </tr>\n",
              "    <tr>\n",
              "      <th>18</th>\n",
              "      <td>Jaringan Saraf</td>\n",
              "      <td>7</td>\n",
              "    </tr>\n",
              "    <tr>\n",
              "      <th>19</th>\n",
              "      <td>Apache Spark</td>\n",
              "      <td>6</td>\n",
              "    </tr>\n",
              "    <tr>\n",
              "      <th>20</th>\n",
              "      <td>Struktur Data</td>\n",
              "      <td>6</td>\n",
              "    </tr>\n",
              "    <tr>\n",
              "      <th>21</th>\n",
              "      <td>Ethical Hacking</td>\n",
              "      <td>6</td>\n",
              "    </tr>\n",
              "    <tr>\n",
              "      <th>22</th>\n",
              "      <td>OpenCV</td>\n",
              "      <td>6</td>\n",
              "    </tr>\n",
              "    <tr>\n",
              "      <th>23</th>\n",
              "      <td>R</td>\n",
              "      <td>6</td>\n",
              "    </tr>\n",
              "  </tbody>\n",
              "</table>\n",
              "</div>"
            ],
            "text/plain": [
              "                             Topik Total\n",
              "0                 Machine learning    52\n",
              "1                        Ilmu Data    48\n",
              "2                           Django    40\n",
              "3            Pembelajaran Mendalam    22\n",
              "4          Dasar-Dasar Pemrograman    21\n",
              "5                Kecerdasan Buatan    19\n",
              "6                      Analis Data    18\n",
              "7                           Pandas    16\n",
              "8                 Python Scripting    16\n",
              "9                       Python GUI    13\n",
              "10                           Flask    11\n",
              "11                         TkInter    10\n",
              "12                Visualisasi Data     9\n",
              "13  Pemrograman Berorientasi Objek     9\n",
              "14                      TensorFlow     9\n",
              "15                Pengembangan Web     9\n",
              "16                       Algoritme     8\n",
              "17                    Raspberry Pi     7\n",
              "18                  Jaringan Saraf     7\n",
              "19                    Apache Spark     6\n",
              "20                   Struktur Data     6\n",
              "21                 Ethical Hacking     6\n",
              "22                          OpenCV     6\n",
              "23                               R     6"
            ]
          },
          "metadata": {
            "tags": []
          },
          "execution_count": 7
        }
      ]
    },
    {
      "cell_type": "code",
      "metadata": {
        "id": "9-eOqP_0AWtT"
      },
      "source": [
        "table = html.find_all('div', class_='panel--panel--3NYBX')[3]\n",
        "\n",
        "data = []\n",
        "for tag in table.find_all('label', class_='udlite-toggle-input-container udlite-text-sm'):\n",
        "    data.append(tag.text)\n",
        "    \n",
        "df_subkategori = pd.DataFrame(data, columns = ['data'])\n",
        "\n",
        "new = df_subkategori[\"data\"].str.split(\"(\", n = 1, expand = True) \n",
        "\n",
        "df_subkategori[\"Sub Kategori\"]= new[0] \n",
        "df_subkategori[\"Total\"]= new[1] \n",
        "\n",
        "df_subkategori.drop(columns =[\"data\"], inplace = True)\n",
        "df_subkategori['Total'] = df_subkategori['Total'].str.replace(\")\",\"\")"
      ],
      "execution_count": null,
      "outputs": []
    },
    {
      "cell_type": "code",
      "metadata": {
        "id": "A6LsuqLlAWtX",
        "outputId": "76df203b-6b9d-43cf-8ad1-b14670264e81"
      },
      "source": [
        "df_subkategori"
      ],
      "execution_count": null,
      "outputs": [
        {
          "output_type": "execute_result",
          "data": {
            "text/html": [
              "<div>\n",
              "<style scoped>\n",
              "    .dataframe tbody tr th:only-of-type {\n",
              "        vertical-align: middle;\n",
              "    }\n",
              "\n",
              "    .dataframe tbody tr th {\n",
              "        vertical-align: top;\n",
              "    }\n",
              "\n",
              "    .dataframe thead th {\n",
              "        text-align: right;\n",
              "    }\n",
              "</style>\n",
              "<table border=\"1\" class=\"dataframe\">\n",
              "  <thead>\n",
              "    <tr style=\"text-align: right;\">\n",
              "      <th></th>\n",
              "      <th>Sub Kategori</th>\n",
              "      <th>Total</th>\n",
              "    </tr>\n",
              "  </thead>\n",
              "  <tbody>\n",
              "    <tr>\n",
              "      <th>0</th>\n",
              "      <td>Bahasa Pemrograman</td>\n",
              "      <td>900</td>\n",
              "    </tr>\n",
              "    <tr>\n",
              "      <th>1</th>\n",
              "      <td>Lainnya dalam TI dan Perangkat Lunak</td>\n",
              "      <td>279</td>\n",
              "    </tr>\n",
              "    <tr>\n",
              "      <th>2</th>\n",
              "      <td>Ilmu Data</td>\n",
              "      <td>257</td>\n",
              "    </tr>\n",
              "    <tr>\n",
              "      <th>3</th>\n",
              "      <td>Pengembangan Web</td>\n",
              "      <td>125</td>\n",
              "    </tr>\n",
              "    <tr>\n",
              "      <th>4</th>\n",
              "      <td>Sertifikasi TI</td>\n",
              "      <td>120</td>\n",
              "    </tr>\n",
              "    <tr>\n",
              "      <th>5</th>\n",
              "      <td>Rekayasa Perangkat Lunak</td>\n",
              "      <td>47</td>\n",
              "    </tr>\n",
              "    <tr>\n",
              "      <th>6</th>\n",
              "      <td>Jaringan dan Keamanan</td>\n",
              "      <td>31</td>\n",
              "    </tr>\n",
              "    <tr>\n",
              "      <th>7</th>\n",
              "      <td>Aplikasi Seluler</td>\n",
              "      <td>15</td>\n",
              "    </tr>\n",
              "    <tr>\n",
              "      <th>8</th>\n",
              "      <td>Keuangan</td>\n",
              "      <td>14</td>\n",
              "    </tr>\n",
              "    <tr>\n",
              "      <th>9</th>\n",
              "      <td>Pengujian Perangkat Lunak</td>\n",
              "      <td>14</td>\n",
              "    </tr>\n",
              "  </tbody>\n",
              "</table>\n",
              "</div>"
            ],
            "text/plain": [
              "                           Sub Kategori Total\n",
              "0                    Bahasa Pemrograman   900\n",
              "1  Lainnya dalam TI dan Perangkat Lunak   279\n",
              "2                             Ilmu Data   257\n",
              "3                      Pengembangan Web   125\n",
              "4                        Sertifikasi TI   120\n",
              "5              Rekayasa Perangkat Lunak    47\n",
              "6                 Jaringan dan Keamanan    31\n",
              "7                      Aplikasi Seluler    15\n",
              "8                              Keuangan    14\n",
              "9             Pengujian Perangkat Lunak    14"
            ]
          },
          "metadata": {
            "tags": []
          },
          "execution_count": 9
        }
      ]
    },
    {
      "cell_type": "code",
      "metadata": {
        "id": "qsY1lMf3AWtZ"
      },
      "source": [
        ""
      ],
      "execution_count": null,
      "outputs": []
    }
  ]
}